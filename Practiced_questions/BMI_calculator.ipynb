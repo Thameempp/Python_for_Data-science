{
 "cells": [
  {
   "cell_type": "markdown",
   "id": "3b69a643",
   "metadata": {},
   "source": [
    "bmi = weight in kg / (height in meter)**2"
   ]
  },
  {
   "cell_type": "code",
   "execution_count": 3,
   "id": "660d50d1",
   "metadata": {},
   "outputs": [
    {
     "name": "stdout",
     "output_type": "stream",
     "text": [
      "44\n",
      "1.55\n"
     ]
    }
   ],
   "source": [
    "# inputs\n",
    "\n",
    "weight = int(input(\"Enter your weigh in kg: \"))\n",
    "height = float(input(\"Enter your height in meter:  \"))\n",
    "print(weight)\n",
    "print(height)"
   ]
  },
  {
   "cell_type": "code",
   "execution_count": 11,
   "id": "905c84ad",
   "metadata": {},
   "outputs": [
    {
     "name": "stdout",
     "output_type": "stream",
     "text": [
      "18.3\n"
     ]
    }
   ],
   "source": [
    "# bmi calculating function\n",
    "\n",
    "def bmi_calc():\n",
    "    return weight/(height)**2\n",
    "exact_bmi=bmi_calc()\n",
    "bmi=round(exact_bmi,1)\n",
    "print(bmi)"
   ]
  },
  {
   "cell_type": "code",
   "execution_count": 16,
   "id": "4fc32405",
   "metadata": {},
   "outputs": [
    {
     "name": "stdout",
     "output_type": "stream",
     "text": [
      "classified in 'under weight'\n",
      "Health risk is 'minimal'\n"
     ]
    }
   ],
   "source": [
    "classification=\"\"\n",
    "Health_risk =\"\"\n",
    "\n",
    "if bmi < 18.5:\n",
    "    print(\"classified in 'under weight'\")\n",
    "    print(\"Health risk is 'minimal'\")\n",
    "elif 24.9 < bmi > 18.5 :\n",
    "    print(\"classified in 'Normal weight'\")\n",
    "    print(\"Health risk is 'minimal'\")\n",
    "elif 29.9 < bmi > 25 :\n",
    "    print(\"classified in 'over weight'\")\n",
    "    print(\"Health risk is 'increased'\")\n",
    "elif 34.9 < bmi > 30 :\n",
    "    print(\"classified in 'over weight'\")\n",
    "    print(\"Health risk is 'High'\")"
   ]
  }
 ],
 "metadata": {
  "kernelspec": {
   "display_name": "base",
   "language": "python",
   "name": "python3"
  },
  "language_info": {
   "codemirror_mode": {
    "name": "ipython",
    "version": 3
   },
   "file_extension": ".py",
   "mimetype": "text/x-python",
   "name": "python",
   "nbconvert_exporter": "python",
   "pygments_lexer": "ipython3",
   "version": "3.13.5"
  }
 },
 "nbformat": 4,
 "nbformat_minor": 5
}
