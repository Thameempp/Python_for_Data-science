{
 "cells": [
  {
   "cell_type": "code",
   "execution_count": null,
   "id": "c2c08cbc",
   "metadata": {},
   "outputs": [],
   "source": [
    "# RegEx in Python\n",
    "# When you have imported the re module, you can start using regular expressions:"
   ]
  },
  {
   "cell_type": "code",
   "execution_count": null,
   "id": "417e790a",
   "metadata": {},
   "outputs": [],
   "source": [
    "# RegEx Functions\n",
    "\n",
    "# findall\tReturns a list containing all matches\n",
    "# search\tReturns a Match object if there is a match anywhere in the string\n",
    "# split\tReturns a list where the string has been split at each match\n",
    "# sub\tReplaces one or many matches with a string"
   ]
  },
  {
   "cell_type": "markdown",
   "id": "5aa2fdf8",
   "metadata": {},
   "source": [
    "# More functions\n",
    "re.match() – match at start\n",
    "re.finditer() – return iterator of matches\n",
    "re.compile() – precompile patterns"
   ]
  },
  {
   "cell_type": "code",
   "execution_count": null,
   "id": "21063e4c",
   "metadata": {},
   "outputs": [],
   "source": [
    "import re\n",
    "import warnings\n",
    "warnings.filterwarnings('ignore')\n"
   ]
  },
  {
   "cell_type": "code",
   "execution_count": 3,
   "id": "7aea36f5",
   "metadata": {},
   "outputs": [],
   "source": [
    "txt= \"Machine Learning and Artificial Intelligence\""
   ]
  },
  {
   "cell_type": "code",
   "execution_count": 4,
   "id": "cf483ec5",
   "metadata": {},
   "outputs": [
    {
     "name": "stdout",
     "output_type": "stream",
     "text": [
      "['in', 'in']\n"
     ]
    }
   ],
   "source": [
    "# findall function  (If no matches are found, an empty list is returned:)\n",
    "\n",
    "a=re.findall(\"in\",txt)\n",
    "print(a)"
   ]
  },
  {
   "cell_type": "code",
   "execution_count": 9,
   "id": "c65103f3",
   "metadata": {},
   "outputs": [
    {
     "name": "stdout",
     "output_type": "stream",
     "text": [
      "The white space character is located in the position: 7\n"
     ]
    }
   ],
   "source": [
    "# search function\n",
    "\n",
    "b=re.search(\"\\s\",txt)\n",
    "print(\"The white space character is located in the position:\",b.start())"
   ]
  },
  {
   "cell_type": "code",
   "execution_count": null,
   "id": "25f191ba",
   "metadata": {},
   "outputs": [
    {
     "name": "stdout",
     "output_type": "stream",
     "text": [
      "['Machine', 'Learning', 'and', 'Artificial', 'Intelligence']\n",
      "['Machine', 'Learning and Artificial Intelligence']\n",
      "['Machine', 'Learning', 'and Artificial Intelligence']\n"
     ]
    }
   ],
   "source": [
    "# split function : Split at each white-space character\n",
    "\n",
    "c=re.split(\"\\s\",txt)\n",
    "print(c)\n",
    "\n",
    "# Split the string only at the first occurrence: \n",
    "\n",
    "d=re.split(\"\\s\",txt,1)\n",
    "print(d)\n",
    "\n",
    "# Split the string  at the 2nd occurrence: \n",
    "\n",
    "e=re.split(\"\\s\",txt,2)\n",
    "print(e)\n",
    "\n",
    "# And 3 for 3rd  ......etc..."
   ]
  },
  {
   "cell_type": "code",
   "execution_count": null,
   "id": "62c2e657",
   "metadata": {},
   "outputs": [
    {
     "name": "stdout",
     "output_type": "stream",
     "text": [
      "Machine2Learning2and2Artificial2Intelligence\n",
      "Machine9Learning9and Artificial Intelligence\n"
     ]
    }
   ],
   "source": [
    "# sub function : The sub() function replaces the matches with the text of your choice\n",
    "\n",
    "txt= \"Machine Learning and Artificial Intelligence\"\n",
    "\n",
    "# replacing white spaces with number :\n",
    "f=re.sub(\"\\s\",\"2\",txt)\n",
    "print(f)\n",
    "\n",
    "# controling the number of replacements by specifying the count parameter::\n",
    "g=re.sub(\"\\s\",\"9\",txt,2)    # replacing two white spaces\n",
    "print(g)"
   ]
  }
 ],
 "metadata": {
  "kernelspec": {
   "display_name": "base",
   "language": "python",
   "name": "python3"
  },
  "language_info": {
   "codemirror_mode": {
    "name": "ipython",
    "version": 3
   },
   "file_extension": ".py",
   "mimetype": "text/x-python",
   "name": "python",
   "nbconvert_exporter": "python",
   "pygments_lexer": "ipython3",
   "version": "3.13.5"
  }
 },
 "nbformat": 4,
 "nbformat_minor": 5
}
