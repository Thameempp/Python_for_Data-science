{
 "cells": [
  {
   "cell_type": "markdown",
   "id": "46bbd2d4",
   "metadata": {},
   "source": [
    "special sequences:   These are shortcuts that make regex patterns easier to write.\n",
    "\n",
    "represented inside \" \"\n",
    "\n",
    "\\d -> Returns a match where the string contains digits (numbers from 0-9)\n",
    "\\D -> Returns a match where the string DOES NOT contain digits\n",
    "\\s -> Matches any whitespace (space, tab, newline)\n",
    "\\S -> Matches any non-whitespace character\n",
    "\\w -> Matches any word character (letters, digits, underscore) → [A-Za-z0-9_]\n",
    "\\W -> Matches any non-word character\n",
    "\\A -> Returns a match if the specified characters are at the beginning of the string → \"\\Aword\"\n",
    "\\z -> Returns a match if the specified characters are at the end of the string → \"word\\Z\"\n",
    "\\b -> \" \"  specified characters are at the beginning or at the end of a word\n",
    "\\B -> \" \"  specified characters are present, but NOT at the beginning (or at the end) of a word "
   ]
  },
  {
   "cell_type": "code",
   "execution_count": 6,
   "id": "d600a422",
   "metadata": {},
   "outputs": [],
   "source": [
    "import re\n",
    "import warnings\n",
    "warnings.filterwarnings('ignore')"
   ]
  },
  {
   "cell_type": "code",
   "execution_count": null,
   "id": "5086264c",
   "metadata": {},
   "outputs": [
    {
     "name": "stdout",
     "output_type": "stream",
     "text": [
      "['1', '2', '3']\n",
      "yes there is at least one match\n",
      "['M', 'a', 'c', 'h', 'i', 'n', 'e', ' ', 'l', 'e', 'a', 'r', 'n', 'i', 'n', 'g', ' ', 'e', 'n', 'g', 'i', 'n', 'e', 'e', 'r', ' ']\n"
     ]
    }
   ],
   "source": [
    "# \\d  and  \\D \n",
    "\n",
    "txt=\"Machine1 learning2 engineer3 \"\n",
    "a=re.findall(\"\\d\", txt)   # findall for returning matches\n",
    "print(a)\n",
    "if a:\n",
    "    print(\"yes there is at least one match\")\n",
    "else:\n",
    "    print(\"No match\")\n",
    "\n",
    "# \\D return all number, but not number\n",
    "p=re.findall(\"\\D\",txt)\n",
    "print(p)"
   ]
  },
  {
   "cell_type": "code",
   "execution_count": null,
   "id": "dfa7223f",
   "metadata": {},
   "outputs": [
    {
     "name": "stdout",
     "output_type": "stream",
     "text": [
      "[' ', ' ', ' ']\n",
      "yes, there is a match\n",
      "Machine10learning20engineer30\n",
      "['M', 'a', 'c', 'h', 'i', 'n', 'e', '1', 'l', 'e', 'a', 'r', 'n', 'i', 'n', 'g', '2', 'e', 'n', 'g', 'i', 'n', 'e', 'e', 'r', '3']\n"
     ]
    }
   ],
   "source": [
    "# \\s  and  \\S\n",
    "# checking or returning \n",
    "b=re.findall(\"\\s\",txt)\n",
    "print(b)\n",
    "if b:\n",
    "    print(\"yes, there is a match\")\n",
    "else:\n",
    "    print(\"No matches.\")\n",
    "# replacing white spaces with \"0\"\n",
    "c=re.sub(\"\\s\",\"0\",txt)\n",
    "print(c)\n",
    "\n",
    "# \\S => returns all except white space\n",
    "d=re.findall(\"\\S\",txt)\n",
    "print(d)"
   ]
  },
  {
   "cell_type": "code",
   "execution_count": null,
   "id": "5262cd02",
   "metadata": {},
   "outputs": [
    {
     "name": "stdout",
     "output_type": "stream",
     "text": [
      "['3', '_', 's', 't', 'a', 'r']\n",
      "['=', '*', '*', '*']\n"
     ]
    }
   ],
   "source": [
    "# \\w  and  \\W   -> matches word character [A-Za-z0-9_] \n",
    "# \\w => returns letter a-z or A-Z , numbers 0-9 and underscore _\n",
    "# \\W => opposie of \\w \n",
    "\n",
    "txt2=\"3_star=***\"\n",
    "e=re.findall(\"\\w\",txt2)\n",
    "print(e)\n",
    "\n",
    "# \\W \n",
    "f=re.findall(\"\\W\",txt2)\n",
    "print(f)"
   ]
  },
  {
   "cell_type": "code",
   "execution_count": null,
   "id": "57904df9",
   "metadata": {},
   "outputs": [
    {
     "name": "stdout",
     "output_type": "stream",
     "text": [
      "['3star']\n",
      "yes it is present at beginning \n"
     ]
    }
   ],
   "source": [
    "# \\A \n",
    "txt3=\"3stars is present at beginning of this string\"\n",
    "\n",
    "g=re.findall(\"\\A3star\",txt3)\n",
    "print(g)\n",
    "if g:\n",
    "    print(\"yes it is present at beginning \")\n",
    "else:\n",
    "    print(\"not present\")"
   ]
  }
 ],
 "metadata": {
  "kernelspec": {
   "display_name": "base",
   "language": "python",
   "name": "python3"
  },
  "language_info": {
   "codemirror_mode": {
    "name": "ipython",
    "version": 3
   },
   "file_extension": ".py",
   "mimetype": "text/x-python",
   "name": "python",
   "nbconvert_exporter": "python",
   "pygments_lexer": "ipython3",
   "version": "3.13.5"
  }
 },
 "nbformat": 4,
 "nbformat_minor": 5
}
