{
 "cells": [
  {
   "cell_type": "markdown",
   "id": "0b3d970c",
   "metadata": {},
   "source": [
    "### Input & Output manipulation"
   ]
  },
  {
   "cell_type": "code",
   "execution_count": 6,
   "id": "14d94a59",
   "metadata": {},
   "outputs": [
    {
     "name": "stdout",
     "output_type": "stream",
     "text": [
      "Hello, Thameem, Welcome.\n"
     ]
    }
   ],
   "source": [
    "# normal input and output\n",
    "\n",
    "name = input(\"Enter your name: \")\n",
    "print(f\"Hello, {name}, Welcome.\")"
   ]
  },
  {
   "cell_type": "code",
   "execution_count": 23,
   "id": "2350ac0b",
   "metadata": {},
   "outputs": [
    {
     "name": "stdout",
     "output_type": "stream",
     "text": [
      "number of boys:  10\n",
      "number of girls:  20\n"
     ]
    }
   ],
   "source": [
    "# taking two input at a time \n",
    "x, y = input(\"Enter two values: \").split() # splits with space\n",
    "print(\"number of boys: \",x)\n",
    "print(\"number of girls: \",y)"
   ]
  },
  {
   "cell_type": "code",
   "execution_count": null,
   "id": "f148175d",
   "metadata": {},
   "outputs": [],
   "source": [
    "# taking three input at a time \n"
   ]
  }
 ],
 "metadata": {
  "kernelspec": {
   "display_name": "Python 3",
   "language": "python",
   "name": "python3"
  },
  "language_info": {
   "codemirror_mode": {
    "name": "ipython",
    "version": 3
   },
   "file_extension": ".py",
   "mimetype": "text/x-python",
   "name": "python",
   "nbconvert_exporter": "python",
   "pygments_lexer": "ipython3",
   "version": "3.9.6"
  }
 },
 "nbformat": 4,
 "nbformat_minor": 5
}
