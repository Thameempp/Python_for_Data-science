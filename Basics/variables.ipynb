{
 "cells": [
  {
   "cell_type": "code",
   "execution_count": 4,
   "id": "d922355f",
   "metadata": {},
   "outputs": [
    {
     "name": "stdout",
     "output_type": "stream",
     "text": [
      "5 6\n",
      "11\n",
      "x is 5 and y is 6\n"
     ]
    }
   ],
   "source": [
    "# basic \n",
    "x = 5 \n",
    "y = 6 \n",
    "\n",
    "print(x,y)\n",
    "print(x+y)\n",
    "\n",
    "# f string is a  special way to make strings where you can put variables or expressions inside {} easily.\n",
    "print(f\"x is {x} and y is {y}\") # f string"
   ]
  },
  {
   "cell_type": "code",
   "execution_count": 15,
   "id": "91d6a116",
   "metadata": {},
   "outputs": [
    {
     "name": "stdout",
     "output_type": "stream",
     "text": [
      "1 2 3\n",
      "p : 7\n",
      "q : 8\n",
      "after swaping , p is 8 and q is 7\n"
     ]
    }
   ],
   "source": [
    "# multiple variable in one line \n",
    "\n",
    "a,b,c = 1,2,3\n",
    "print(a,b,c)\n",
    "\n",
    "# swaping variables \n",
    "p,q = 7,8\n",
    "print(\"p :\",p)\n",
    "print(\"q :\",q)\n",
    "\n",
    "p,q = q,p\n",
    "print (f\"after swaping , p is {p} and q is {q}\")"
   ]
  },
  {
   "cell_type": "code",
   "execution_count": 18,
   "id": "e706f98a",
   "metadata": {},
   "outputs": [
    {
     "name": "stdout",
     "output_type": "stream",
     "text": [
      "[1, 2, 3, 4, 5]\n",
      "1 [2, 3, 4] 5\n"
     ]
    }
   ],
   "source": [
    "# unpacking list or tuple dynamically \n",
    "\n",
    "numbers = [1,2,3,4,5]\n",
    "first,*middle,last = numbers\n",
    "print(numbers)\n",
    "print(first,middle,last)\n"
   ]
  },
  {
   "cell_type": "code",
   "execution_count": null,
   "id": "e577575b",
   "metadata": {},
   "outputs": [
    {
     "name": "stdout",
     "output_type": "stream",
     "text": [
      "0 1 2\n",
      "0 10 20\n"
     ]
    }
   ],
   "source": [
    "# Dynamic variable creation\n",
    "''' : variable whose name or value is created and assigned during program execution (runtime), instead of being hardcoded in the source code.But in normal variable : The name x is written in the code before execution '''\n",
    "\n",
    "for i in range(5):\n",
    "    globals()[f\"var{i}\"] = i * 1\n",
    "print(var0, var1, var2)\n",
    "\n",
    "# updating \n",
    "for i in range(5):\n",
    "    globals()[f\"var{i}\"] = i * 10\n",
    "print(var0, var1, var2)"
   ]
  }
 ],
 "metadata": {
  "kernelspec": {
   "display_name": "Python 3",
   "language": "python",
   "name": "python3"
  },
  "language_info": {
   "codemirror_mode": {
    "name": "ipython",
    "version": 3
   },
   "file_extension": ".py",
   "mimetype": "text/x-python",
   "name": "python",
   "nbconvert_exporter": "python",
   "pygments_lexer": "ipython3",
   "version": "3.9.6"
  }
 },
 "nbformat": 4,
 "nbformat_minor": 5
}
